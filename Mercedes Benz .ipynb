{
 "cells": [
  {
   "cell_type": "markdown",
   "id": "2edc87ca",
   "metadata": {
    "scrolled": true
   },
   "source": [
    "<img src=\"logo.png\" align=\"center\" style=\"width:400px;height=200px\">"
   ]
  },
  {
   "cell_type": "markdown",
   "id": "e643106f",
   "metadata": {},
   "source": [
    "<center><strong style=\"font-size: 25px;\">Mercedes-Benz Greener Manufacturing</strong></center>\n"
   ]
  },
  {
   "cell_type": "markdown",
   "id": "605e1028",
   "metadata": {},
   "source": [
    "### DESCRIPTION--- Reduce the time a Mercedes-Benz spends on the test bench\n",
    "\n",
    "### Problem Statement Scenario:\n",
    "#### Since the first automobile, the Benz Patent Motor Car in 1886, Mercedes-Benz has stood for important automotive innovations. These include the passenger safety cell with a crumple zone, the airbag, and intelligent assistance systems. Mercedes-Benz applies for nearly 2000 patents per year, making the brand the European leader among premium carmakers. Mercedes-Benz is the leader in the premium car industry. With a huge selection of features and options, customers can choose the customized Mercedes-Benz of their dreams.\n",
    "#### To ensure the safety and reliability of every unique car configuration before they hit the road, the company’s engineers have developed a robust testing system. As one of the world’s biggest manufacturers of premium cars, safety and efficiency are paramount on Mercedes-Benz’s production lines. However, optimizing the speed of their testing system for many possible feature combinations is complex and time-consuming without a powerful algorithmic approach.\n",
    "#### You are required to reduce the time that cars spend on the test bench. Others will work with a dataset representing different permutations of features in a Mercedes-Benz car to predict the time it takes to pass testing. Optimal algorithms will contribute to faster testing, resulting in lower carbon dioxide emissions without reducing Mercedes-Benz’s standards"
   ]
  },
  {
   "cell_type": "markdown",
   "id": "c2f40ed6",
   "metadata": {},
   "source": [
    "## Performed the below tasks\n",
    "**Step-1 Understanding the buisness problem/ problem statement**\n",
    "\n",
    "**Step-2 Getting data (Importing by Pandas)**\n",
    "\n",
    "**Step-3 Understanding about the data**\n",
    "\n",
    "**Step-4 Data cleaning**\n",
    "\n",
    "**Step-5 Data visualization**\n",
    "\n",
    "**Step-6 EDA Exploratory data analysis**\n",
    "\n",
    "**Step-7 Feature selection**\n",
    "\n",
    "**Step-8 Feature Engineering**\n",
    "\n",
    "**Step-9 Splitting the data**\n",
    "\n",
    "**Step-10 Model building** \n",
    "\n",
    "**Step-11 Prediction and accuracy**\n",
    "\n",
    "**Step-12 Tunning and improving accuracy**"
   ]
  },
  {
   "cell_type": "markdown",
   "id": "36b5763b",
   "metadata": {},
   "source": [
    "### **Let's get started!**\n",
    "\n",
    "### Import Libraries"
   ]
  },
  {
   "cell_type": "code",
   "execution_count": 79,
   "id": "413bb255",
   "metadata": {},
   "outputs": [],
   "source": [
    "import pandas as pd\n",
    "import numpy as np\n",
    "import matplotlib.pyplot as plt\n",
    "import seaborn as sns\n",
    "%matplotlib inline"
   ]
  },
  {
   "cell_type": "code",
   "execution_count": 80,
   "id": "f99019ae",
   "metadata": {},
   "outputs": [],
   "source": [
    "import warnings\n",
    "warnings.filterwarnings('ignore')"
   ]
  },
  {
   "cell_type": "code",
   "execution_count": 81,
   "id": "6554263c",
   "metadata": {},
   "outputs": [],
   "source": [
    "# Those below are used to change the display options for pandas DataFrames \n",
    "# In order to display all the columns or rows of the DataFrame, respectively.\n",
    "pd.set_option('display.max_columns', None)\n",
    "pd.set_option('display.max_rows', None)"
   ]
  },
  {
   "cell_type": "code",
   "execution_count": null,
   "id": "ec813052",
   "metadata": {},
   "outputs": [],
   "source": []
  },
  {
   "cell_type": "markdown",
   "id": "a96c179c",
   "metadata": {},
   "source": [
    "### Step-1 Understanding The Buisness Problem/ Problem Statement\n",
    "### Reduce the time a Mercedes-Benz spends on the test bench"
   ]
  },
  {
   "cell_type": "code",
   "execution_count": null,
   "id": "ad8df91d",
   "metadata": {},
   "outputs": [],
   "source": []
  },
  {
   "cell_type": "markdown",
   "id": "d545572e",
   "metadata": {},
   "source": [
    "### Step-2 Getting data (Importing Datasets  by Pandas)\n",
    "#### This involves collecting and obtaining data from various sources that may be relevant to the problem."
   ]
  },
  {
   "cell_type": "code",
   "execution_count": null,
   "id": "c2b7e2ee",
   "metadata": {},
   "outputs": [],
   "source": []
  },
  {
   "cell_type": "code",
   "execution_count": 82,
   "id": "f9293ec9",
   "metadata": {},
   "outputs": [],
   "source": [
    "# Load the training dataset\n",
    "train_df = pd.read_csv('Mercedes Benz Train Dataset.csv')\n",
    "\n",
    "# Load the test dataset\n",
    "test_df = pd.read_csv('Mercedes Benz Test Dataset.csv')"
   ]
  },
  {
   "cell_type": "code",
   "execution_count": null,
   "id": "f6f62251",
   "metadata": {},
   "outputs": [],
   "source": []
  },
  {
   "cell_type": "markdown",
   "id": "cd7cc617",
   "metadata": {},
   "source": [
    "### Step-3 Understanding about the Data\n",
    "#### This step involves exploring the data to understand its structure, format, quality, and any patterns or trends that may exist."
   ]
  },
  {
   "cell_type": "code",
   "execution_count": 83,
   "id": "59173fea",
   "metadata": {},
   "outputs": [],
   "source": [
    "Train_Data_shape = train_df.shape"
   ]
  },
  {
   "cell_type": "code",
   "execution_count": 84,
   "id": "2422a0b1",
   "metadata": {},
   "outputs": [],
   "source": [
    "Test_Data_shape=test_df.shape"
   ]
  },
  {
   "cell_type": "code",
   "execution_count": null,
   "id": "20aaf3e0",
   "metadata": {},
   "outputs": [],
   "source": []
  },
  {
   "cell_type": "code",
   "execution_count": 85,
   "id": "ac3b3369",
   "metadata": {},
   "outputs": [
    {
     "name": "stdout",
     "output_type": "stream",
     "text": [
      "No of Columns and Columns in Train Data (4209, 378)\n",
      "No of Columns and Columns in Test Data (4209, 377)\n"
     ]
    }
   ],
   "source": [
    "print('No of Columns and Columns in Train Data {}'.format(Train_Data_shape))\n",
    "print('No of Columns and Columns in Test Data {}'.format(Test_Data_shape))"
   ]
  },
  {
   "cell_type": "code",
   "execution_count": null,
   "id": "116d3c00",
   "metadata": {},
   "outputs": [],
   "source": []
  },
  {
   "cell_type": "code",
   "execution_count": 86,
   "id": "ddefcbe2",
   "metadata": {},
   "outputs": [
    {
     "name": "stdout",
     "output_type": "stream",
     "text": [
      "<class 'pandas.core.frame.DataFrame'>\n",
      "RangeIndex: 4209 entries, 0 to 4208\n",
      "Columns: 378 entries, ID to X385\n",
      "dtypes: float64(1), int64(369), object(8)\n",
      "memory usage: 12.1+ MB\n",
      "None\n"
     ]
    }
   ],
   "source": [
    "# Get an overview of the dataset\n",
    "print(train_df.info())"
   ]
  },
  {
   "cell_type": "code",
   "execution_count": null,
   "id": "99af8f39",
   "metadata": {},
   "outputs": [],
   "source": []
  },
  {
   "cell_type": "code",
   "execution_count": 87,
   "id": "f86b8f46",
   "metadata": {},
   "outputs": [
    {
     "name": "stdout",
     "output_type": "stream",
     "text": [
      "<class 'pandas.core.frame.DataFrame'>\n",
      "RangeIndex: 4209 entries, 0 to 4208\n",
      "Columns: 377 entries, ID to X385\n",
      "dtypes: int64(369), object(8)\n",
      "memory usage: 12.1+ MB\n",
      "None\n"
     ]
    }
   ],
   "source": [
    "# Get an overview of the dataset\n",
    "print(test_df.info())"
   ]
  },
  {
   "cell_type": "code",
   "execution_count": null,
   "id": "cab0db84",
   "metadata": {},
   "outputs": [],
   "source": []
  },
  {
   "cell_type": "markdown",
   "id": "41d8c83a",
   "metadata": {},
   "source": [
    "```python\n",
    "#View the first few rows of the dataset\n",
    "print(train_df.head())\n",
    "```"
   ]
  },
  {
   "cell_type": "markdown",
   "id": "d0693ac6",
   "metadata": {
    "scrolled": false
   },
   "source": [
    "```python\n",
    "# View the first few rows of the dataset\n",
    "print(test_df.head())\n",
    "```"
   ]
  },
  {
   "cell_type": "markdown",
   "id": "1e3aa496",
   "metadata": {},
   "source": [
    "```python\n",
    "# Calculate summary statistics for the numeric columns\n",
    "print(train_df.describe())\n",
    "```"
   ]
  },
  {
   "cell_type": "markdown",
   "id": "ce6957d8",
   "metadata": {},
   "source": [
    "```python\n",
    "# Calculate summary statistics for the numeric columns\n",
    "print(test_df.describe())\n",
    "```"
   ]
  },
  {
   "cell_type": "markdown",
   "id": "aa1c1d3b",
   "metadata": {},
   "source": [
    "```python\n",
    "# Count the number of unique values in each column\n",
    "print(train_df.nunique())\n",
    "```"
   ]
  },
  {
   "cell_type": "markdown",
   "id": "ae16a5af",
   "metadata": {},
   "source": [
    "```python\n",
    "# Count the number of unique values in each column\n",
    "print(test_df.nunique())\n",
    "```"
   ]
  },
  {
   "cell_type": "markdown",
   "id": "8e1221b4",
   "metadata": {},
   "source": [
    "```python\n",
    "# Preview 5 random rows\n",
    "train_df.sample(5)\n",
    "```"
   ]
  },
  {
   "cell_type": "markdown",
   "id": "985e61e1",
   "metadata": {},
   "source": [
    "```python\n",
    "# View summary statistics for the numerical columns\n",
    "summary_stats = train_df.describe().transpose()\n",
    "summary_stats\n",
    "```"
   ]
  },
  {
   "cell_type": "code",
   "execution_count": null,
   "id": "ff7954d8",
   "metadata": {},
   "outputs": [],
   "source": []
  },
  {
   "cell_type": "markdown",
   "id": "a31e6567",
   "metadata": {},
   "source": [
    "### Step-4 Data cleaning: \n",
    "#### This involves identifying and correcting errors, missing values, outliers,or other issues in the data that could impact the accuracy of the analysis."
   ]
  },
  {
   "cell_type": "markdown",
   "id": "7be006fb",
   "metadata": {},
   "source": [
    "``` python\n",
    "# Check for missing values\n",
    "print(train_df.isnull().sum())\n",
    "```"
   ]
  },
  {
   "cell_type": "markdown",
   "id": "d524e798",
   "metadata": {},
   "source": [
    "``` python\n",
    "# Check for missing values\n",
    "print(test_df.isnull().sum())\n",
    "```"
   ]
  },
  {
   "cell_type": "code",
   "execution_count": 88,
   "id": "122e8f78",
   "metadata": {},
   "outputs": [
    {
     "name": "stdout",
     "output_type": "stream",
     "text": [
      "0\n"
     ]
    }
   ],
   "source": [
    "# Check for duplicates\n",
    "print(train_df.duplicated().sum())"
   ]
  },
  {
   "cell_type": "code",
   "execution_count": null,
   "id": "1049ed20",
   "metadata": {},
   "outputs": [],
   "source": []
  },
  {
   "cell_type": "code",
   "execution_count": 89,
   "id": "06085737",
   "metadata": {},
   "outputs": [
    {
     "name": "stdout",
     "output_type": "stream",
     "text": [
      "0\n"
     ]
    }
   ],
   "source": [
    "# Check for duplicates\n",
    "print(test_df.duplicated().sum())"
   ]
  },
  {
   "cell_type": "code",
   "execution_count": null,
   "id": "79e74955",
   "metadata": {},
   "outputs": [],
   "source": []
  },
  {
   "cell_type": "code",
   "execution_count": 90,
   "id": "c2126056",
   "metadata": {},
   "outputs": [],
   "source": [
    "# Both Data sets have not  missing Values no require for process for fillna treatment\n",
    "# Both Data sets have not Duplicates so no require for process to drop them treatment"
   ]
  },
  {
   "cell_type": "code",
   "execution_count": null,
   "id": "05923067",
   "metadata": {},
   "outputs": [],
   "source": []
  },
  {
   "cell_type": "code",
   "execution_count": 91,
   "id": "226a3617",
   "metadata": {},
   "outputs": [
    {
     "name": "stdout",
     "output_type": "stream",
     "text": [
      "Printing the shape of train dataset:  (4209, 378)\n",
      "Printing the shape of test dataset:  (4209, 377)\n"
     ]
    }
   ],
   "source": [
    "# Check the number of rows and columns after cleaning\n",
    "print('Printing the shape of train dataset: ',train_df.shape)\n",
    "print('Printing the shape of test dataset: ',test_df.shape)"
   ]
  },
  {
   "cell_type": "code",
   "execution_count": null,
   "id": "0ff9b40f",
   "metadata": {},
   "outputs": [],
   "source": []
  },
  {
   "cell_type": "markdown",
   "id": "726d4d66",
   "metadata": {},
   "source": [
    "### Step- 5 Data Visualization:\n",
    "#### This involves creating visualizations to help understand the relationships between different variables in the data."
   ]
  },
  {
   "cell_type": "code",
   "execution_count": null,
   "id": "a4d9dc52",
   "metadata": {},
   "outputs": [],
   "source": []
  },
  {
   "cell_type": "markdown",
   "id": "6c99e0d5",
   "metadata": {},
   "source": [
    "#### Check the Distribution of the Target Variable"
   ]
  },
  {
   "cell_type": "code",
   "execution_count": null,
   "id": "e8ae0d5f",
   "metadata": {},
   "outputs": [],
   "source": []
  },
  {
   "cell_type": "code",
   "execution_count": 92,
   "id": "9c4a2ca3",
   "metadata": {},
   "outputs": [
    {
     "data": {
      "image/png": "[encoded data removed]",
      "text/plain": [
       "<Figure size 576x432 with 1 Axes>"
      ]
     },
     "metadata": {
      "needs_background": "light"
     },
     "output_type": "display_data"
    }
   ],
   "source": [
    "# Define the range of values for the histogram bins\n",
    "bin_width = 5\n",
    "bins = np.arange(train_df['y'].min(), train_df['y'].max() + bin_width, bin_width)\n",
    "\n",
    "# Create a histogram of the target variable with a bin width of 5\n",
    "font_style = {'family': 'Arial', 'size': 12, 'weight': 'bold', 'style': 'italic'}\n",
    "plt.figure(figsize=(8,6))\n",
    "plt.grid(axis='y',ls='solid',color ='k',lw=0.2,alpha=0.5)\n",
    "plt.hist(train_df['y'], bins=bins, color='purple', edgecolor='black')\n",
    "\n",
    "# Add labels and a title\n",
    "plt.xlabel('Target Value',fontdict=font_style)\n",
    "plt.ylabel('Frequency',fontdict=font_style)\n",
    "plt.title('Distribution of Target Variable',fontdict=font_style)\n",
    "plt.xticks(rotation='vertical', ha='center',size=12)\n",
    "\n",
    "# Display the chart\n",
    "plt.show()\n"
   ]
  },
  {
   "cell_type": "code",
   "execution_count": null,
   "id": "63b1b4f4",
   "metadata": {},
   "outputs": [],
   "source": []
  },
  {
   "cell_type": "code",
   "execution_count": null,
   "id": "cf9eeb7d",
   "metadata": {},
   "outputs": [],
   "source": []
  },
  {
   "cell_type": "markdown",
   "id": "f2905ee1",
   "metadata": {},
   "source": [
    "``` python\n",
    "# Count the number of occurrences of each unique value in the target column\n",
    "target_counts = train_df['y'].value_counts()\n",
    "\n",
    "# Print the distribution of the target variable\n",
    "print(target_counts)\n",
    "```"
   ]
  },
  {
   "cell_type": "code",
   "execution_count": null,
   "id": "70d54005",
   "metadata": {},
   "outputs": [],
   "source": []
  },
  {
   "cell_type": "code",
   "execution_count": 93,
   "id": "e7619f5b",
   "metadata": {
    "scrolled": true
   },
   "outputs": [
    {
     "name": "stdout",
     "output_type": "stream",
     "text": [
      "89.06    7\n",
      "90.76    7\n",
      "91.88    7\n",
      "89.38    7\n",
      "90.44    6\n",
      "89.19    6\n",
      "91.62    6\n",
      "93.62    6\n",
      "89.60    6\n",
      "90.38    6\n",
      "Name: y, dtype: int64\n"
     ]
    }
   ],
   "source": [
    "# The top 10 values in the 'target' column\n",
    "top_targets = train_df['y'].value_counts().head(10)\n",
    "print(top_targets)"
   ]
  },
  {
   "cell_type": "code",
   "execution_count": null,
   "id": "7a027829",
   "metadata": {},
   "outputs": [],
   "source": []
  },
  {
   "cell_type": "code",
   "execution_count": 94,
   "id": "9e59a6d4",
   "metadata": {},
   "outputs": [
    {
     "data": {
      "image/png": "[encoded data removed]",
      "text/plain": [
       "<Figure size 576x432 with 1 Axes>"
      ]
     },
     "metadata": {
      "needs_background": "light"
     },
     "output_type": "display_data"
    }
   ],
   "source": [
    "# Define the range of values for the histogram bins\n",
    "bin_width = 5\n",
    "bins = np.arange(train_df['y'].min(), train_df['y'].max() + bin_width, bin_width)\n",
    "\n",
    "# Create a histogram of the target variable with a bin width of 5\n",
    "font_style = {'family': 'Arial', 'size': 11.5, 'weight': 'bold', 'style': 'italic'}\n",
    "plt.figure(figsize=(8,6))\n",
    "plt.grid(axis='y',ls='solid',color ='k',lw=0.2,alpha=0.5)\n",
    "sns.countplot(x='X5', data=train_df)\n",
    "\n",
    "# Add labels and a title\n",
    "plt.xlabel('Categorical Feature in X5',fontdict=font_style)\n",
    "plt.ylabel('Frequency',fontdict=font_style)\n",
    "plt.title('Distribution of Categorical Feature X5',fontdict=font_style)\n",
    "plt.xticks(rotation='vertical', ha='center',size=12)\n",
    "\n",
    "# Display the chart\n",
    "plt.show()"
   ]
  },
  {
   "cell_type": "code",
   "execution_count": null,
   "id": "bc7ba52b",
   "metadata": {},
   "outputs": [],
   "source": []
  },
  {
   "cell_type": "code",
   "execution_count": null,
   "id": "1266d5dc",
   "metadata": {},
   "outputs": [],
   "source": []
  },
  {
   "cell_type": "markdown",
   "id": "23cc4fb3",
   "metadata": {},
   "source": [
    "### Step-7 Feature Selection: \n",
    "#### This involves selecting the most relevant features or variables for the model, based on their importance or impact on the target variable."
   ]
  },
  {
   "cell_type": "code",
   "execution_count": null,
   "id": "0d78ccf0",
   "metadata": {},
   "outputs": [],
   "source": []
  },
  {
   "cell_type": "code",
   "execution_count": 95,
   "id": "edbaf0a7",
   "metadata": {},
   "outputs": [
    {
     "name": "stdout",
     "output_type": "stream",
     "text": [
      "X shape: (4209, 377)\n",
      "y shape: (4209,)\n"
     ]
    }
   ],
   "source": [
    "# Split the train data into X (features) and y (target variable)\n",
    "X = train_df.drop('y', axis=1) # Drop the 'y' column to get the feature matrix\n",
    "y = train_df['y'] # Get the 'y' column as the target variable\n",
    "\n",
    "# Print the shapes of the resulting X and y matrices\n",
    "print('X shape:', X.shape)\n",
    "print('y shape:', y.shape)"
   ]
  },
  {
   "cell_type": "code",
   "execution_count": null,
   "id": "f089790e",
   "metadata": {},
   "outputs": [],
   "source": []
  },
  {
   "cell_type": "markdown",
   "id": "42d5dd7b",
   "metadata": {},
   "source": [
    "### Step-8 Feature Engineering:\n",
    "#### This involves creating new features or variables from the existing data to improve the performance of the model"
   ]
  },
  {
   "cell_type": "code",
   "execution_count": null,
   "id": "1a0caeee",
   "metadata": {},
   "outputs": [],
   "source": []
  },
  {
   "cell_type": "code",
   "execution_count": 96,
   "id": "654f53fd",
   "metadata": {},
   "outputs": [],
   "source": [
    "# Select the categorical columns in X and test_df\n",
    "cat_cols = ['X0', 'X1', 'X2', 'X3', 'X4', 'X5', 'X6', 'X8']\n",
    "\n",
    "# Perform one-hot encoding using get_dummies() on X\n",
    "X_encoded = pd.get_dummies(X[cat_cols], prefix=cat_cols)\n",
    "\n",
    "# Perform one-hot encoding using get_dummies() on test_df\n",
    "test_encoded = pd.get_dummies(test_df[cat_cols], prefix=cat_cols)\n",
    "\n",
    "# Align the columns of the encoded test_df with X_encoded\n",
    "test_encoded = test_encoded.reindex(columns=X_encoded.columns, fill_value=0)\n",
    "\n",
    "# Concatenate the encoded categorical columns with the numerical columns in X and test_df\n",
    "X_encoded = pd.concat([X.drop(cat_cols, axis=1), X_encoded], axis=1)\n",
    "test_encoded = pd.concat([test_df.drop(cat_cols, axis=1), test_encoded], axis=1)\n"
   ]
  },
  {
   "cell_type": "code",
   "execution_count": null,
   "id": "56d33ad9",
   "metadata": {},
   "outputs": [],
   "source": []
  },
  {
   "cell_type": "code",
   "execution_count": null,
   "id": "760dd0c3",
   "metadata": {},
   "outputs": [],
   "source": []
  },
  {
   "cell_type": "code",
   "execution_count": 97,
   "id": "b2aa164f",
   "metadata": {},
   "outputs": [
    {
     "data": {
      "text/plain": [
       "(4209, 564)"
      ]
     },
     "execution_count": 97,
     "metadata": {},
     "output_type": "execute_result"
    }
   ],
   "source": [
    "X_encoded.shape"
   ]
  },
  {
   "cell_type": "code",
   "execution_count": 98,
   "id": "7cef5af6",
   "metadata": {},
   "outputs": [
    {
     "data": {
      "text/plain": [
       "(4209, 564)"
      ]
     },
     "execution_count": 98,
     "metadata": {},
     "output_type": "execute_result"
    }
   ],
   "source": [
    "test_encoded.shape"
   ]
  },
  {
   "cell_type": "code",
   "execution_count": 99,
   "id": "8ac93b0d",
   "metadata": {},
   "outputs": [],
   "source": [
    "# Define a threshold for variance\n",
    "var_threshold = 0.02\n",
    "\n",
    "# Get the low-variance columns in X_encoded\n",
    "low_var_cols_X = X_encoded.columns[X_encoded.var() < var_threshold]\n",
    "\n",
    "# Get the low-variance columns in test_encoded\n",
    "low_var_cols_test = test_encoded.columns[test_encoded.var() < var_threshold]\n",
    "\n",
    "# Combine the low-variance columns from both data frames\n",
    "low_var_cols = set(low_var_cols_X).union(set(low_var_cols_test))\n",
    "\n",
    "# Drop the low-variance columns from both X_encoded and test_encoded\n",
    "X_encoded = X_encoded.drop(low_var_cols, axis=1)\n",
    "test_encoded = test_encoded.drop(low_var_cols, axis=1)\n",
    "\n",
    "# Reindex the columns of test_encoded to match X_encoded\n",
    "test_encoded = test_encoded.reindex(columns=X_encoded.columns, fill_value=0)\n"
   ]
  },
  {
   "cell_type": "code",
   "execution_count": null,
   "id": "69398e33",
   "metadata": {},
   "outputs": [],
   "source": []
  },
  {
   "cell_type": "code",
   "execution_count": null,
   "id": "37f9e5c7",
   "metadata": {},
   "outputs": [],
   "source": []
  },
  {
   "cell_type": "code",
   "execution_count": 100,
   "id": "b9a8d9f6",
   "metadata": {},
   "outputs": [
    {
     "data": {
      "text/plain": [
       "(4209, 278)"
      ]
     },
     "execution_count": 100,
     "metadata": {},
     "output_type": "execute_result"
    }
   ],
   "source": [
    "X_encoded.shape"
   ]
  },
  {
   "cell_type": "code",
   "execution_count": 101,
   "id": "0a4a3956",
   "metadata": {},
   "outputs": [
    {
     "data": {
      "text/plain": [
       "(4209, 278)"
      ]
     },
     "execution_count": 101,
     "metadata": {},
     "output_type": "execute_result"
    }
   ],
   "source": [
    "test_encoded.shape"
   ]
  },
  {
   "cell_type": "code",
   "execution_count": null,
   "id": "583c86ae",
   "metadata": {},
   "outputs": [],
   "source": []
  },
  {
   "cell_type": "code",
   "execution_count": null,
   "id": "f4346aad",
   "metadata": {},
   "outputs": [],
   "source": []
  },
  {
   "cell_type": "markdown",
   "id": "0eb7f7da",
   "metadata": {},
   "source": [
    "### Step-9 Splitting the Data: \n",
    "#### This involves dividing the data into training and testing sets to build and evaluate the model."
   ]
  },
  {
   "cell_type": "code",
   "execution_count": 102,
   "id": "8e8b3947",
   "metadata": {},
   "outputs": [],
   "source": [
    "from sklearn.model_selection import train_test_split\n",
    "\n",
    "# Split the data into training and validation sets\n",
    "X_train, X_val, y_train, y_val = train_test_split(X_encoded, y, test_size=0.2, random_state=42)"
   ]
  },
  {
   "cell_type": "code",
   "execution_count": null,
   "id": "59efe1ec",
   "metadata": {},
   "outputs": [],
   "source": []
  },
  {
   "cell_type": "code",
   "execution_count": null,
   "id": "0c28873a",
   "metadata": {},
   "outputs": [],
   "source": []
  },
  {
   "cell_type": "markdown",
   "id": "9d73a233",
   "metadata": {},
   "source": [
    "### Step-10 Model building: \n",
    "#### This involves selecting and building the appropriate machine learning algorithm to solve the problem."
   ]
  },
  {
   "cell_type": "code",
   "execution_count": 103,
   "id": "c7272329",
   "metadata": {},
   "outputs": [
    {
     "name": "stdout",
     "output_type": "stream",
     "text": [
      "Mean Squared Error: 69.05\n",
      "R-squared Score: 0.56\n"
     ]
    }
   ],
   "source": [
    "import xgboost as xgb\n",
    "\n",
    "# Convert the data to DMatrix format for XGBoost\n",
    "dtrain = xgb.DMatrix(X_train, label=y_train)\n",
    "dval = xgb.DMatrix(X_val, label=y_val)\n",
    "\n",
    "# Define the XGBoost parameters\n",
    "params = {\n",
    "    'objective': 'reg:squarederror',\n",
    "    'eval_metric': 'rmse',\n",
    "    'max_depth': 6,\n",
    "    'eta': 0.1,\n",
    "    'subsample': 0.8,\n",
    "    'colsample_bytree': 0.8\n",
    "}\n",
    "\n",
    "# Train the XGBoost model\n",
    "num_rounds = 100\n",
    "bst = xgb.train(params, dtrain, num_rounds)\n",
    "\n",
    "# Make predictions on the validation data\n",
    "y_pred = bst.predict(dval)\n",
    "\n",
    "# Compute the mean squared error of the predictions\n",
    "from sklearn.metrics import mean_squared_error\n",
    "mse = mean_squared_error(y_val, y_pred)\n",
    "print(\"Mean Squared Error: {:.2f}\".format(mse))\n",
    "\n",
    "# Compute the R-squared score of the predictions\n",
    "from sklearn.metrics import r2_score\n",
    "r2 = r2_score(y_val, y_pred)\n",
    "print(\"R-squared Score: {:.2f}\".format(r2))\n"
   ]
  },
  {
   "cell_type": "code",
   "execution_count": null,
   "id": "6d75814f",
   "metadata": {},
   "outputs": [],
   "source": []
  },
  {
   "cell_type": "code",
   "execution_count": null,
   "id": "ff9ca85d",
   "metadata": {},
   "outputs": [],
   "source": []
  },
  {
   "cell_type": "markdown",
   "id": "513cc036",
   "metadata": {},
   "source": [
    "### Step -11 Prediction and Accuracy: \n",
    "#### This involves using the model to make predictions on new data and evaluating the accuracy of the predictions."
   ]
  },
  {
   "cell_type": "code",
   "execution_count": null,
   "id": "38f1c794",
   "metadata": {},
   "outputs": [],
   "source": []
  },
  {
   "cell_type": "code",
   "execution_count": 104,
   "id": "f359fca0",
   "metadata": {},
   "outputs": [
    {
     "name": "stdout",
     "output_type": "stream",
     "text": [
      "Mean Squared Error: 69.05\n",
      "R-squared Score: 0.56\n"
     ]
    }
   ],
   "source": [
    "# Compute the mean squared error of the predictions\n",
    "from sklearn.metrics import mean_squared_error\n",
    "mse = mean_squared_error(y_val, y_pred)\n",
    "print(\"Mean Squared Error: {:.2f}\".format(mse))\n",
    "\n",
    "# Compute the R-squared score of the predictions\n",
    "from sklearn.metrics import r2_score\n",
    "r2 = r2_score(y_val, y_pred)\n",
    "print(\"R-squared Score: {:.2f}\".format(r2))\n"
   ]
  },
  {
   "cell_type": "code",
   "execution_count": null,
   "id": "1a1a876a",
   "metadata": {},
   "outputs": [],
   "source": []
  },
  {
   "cell_type": "code",
   "execution_count": null,
   "id": "c6b601d8",
   "metadata": {},
   "outputs": [],
   "source": []
  },
  {
   "cell_type": "code",
   "execution_count": 105,
   "id": "967e8afe",
   "metadata": {},
   "outputs": [],
   "source": [
    "# Convert the test data to DMatrix format for XGBoost\n",
    "dtest = xgb.DMatrix(test_encoded)\n",
    "\n",
    "# Make predictions on the test data\n",
    "test_pred = bst.predict(dtest)\n"
   ]
  },
  {
   "cell_type": "code",
   "execution_count": null,
   "id": "0fb284ce",
   "metadata": {},
   "outputs": [],
   "source": []
  },
  {
   "cell_type": "code",
   "execution_count": null,
   "id": "a9a985ca",
   "metadata": {},
   "outputs": [],
   "source": []
  },
  {
   "cell_type": "code",
   "execution_count": 106,
   "id": "7350ddea",
   "metadata": {},
   "outputs": [
    {
     "data": {
      "text/plain": [
       "array([ 84.31303, 101.71944,  79.36254, ...,  92.54475, 108.79264,\n",
       "        90.6403 ], dtype=float32)"
      ]
     },
     "execution_count": 106,
     "metadata": {},
     "output_type": "execute_result"
    }
   ],
   "source": [
    "test_pred"
   ]
  },
  {
   "cell_type": "code",
   "execution_count": null,
   "id": "3b2c61a0",
   "metadata": {},
   "outputs": [],
   "source": []
  },
  {
   "cell_type": "code",
   "execution_count": null,
   "id": "ca827af6",
   "metadata": {},
   "outputs": [],
   "source": []
  },
  {
   "cell_type": "markdown",
   "id": "391de6f1",
   "metadata": {},
   "source": [
    "### Step-12 Tuning or Improving accuracy with Hyper Parameter: \n",
    "#### This involves fine-tuning the model parameters and features to improve its accuracy and performance."
   ]
  },
  {
   "cell_type": "code",
   "execution_count": null,
   "id": "1ff73c5f",
   "metadata": {},
   "outputs": [],
   "source": []
  },
  {
   "cell_type": "code",
   "execution_count": 107,
   "id": "56d502e7",
   "metadata": {},
   "outputs": [],
   "source": [
    "#import xgboost as xgb\n",
    "from sklearn.model_selection import GridSearchCV, train_test_split\n",
    "#from sklearn.metrics import mean_squared_error, r2_score\n",
    "#import pandas as pd\n",
    "# Convert the data to DMatrix format for XGBoost\n",
    "dtrain = xgb.DMatrix(X_train, label=y_train)\n",
    "dval = xgb.DMatrix(X_val, label=y_val)"
   ]
  },
  {
   "cell_type": "code",
   "execution_count": null,
   "id": "c404fa87",
   "metadata": {},
   "outputs": [],
   "source": []
  },
  {
   "cell_type": "code",
   "execution_count": null,
   "id": "e8da5096",
   "metadata": {},
   "outputs": [],
   "source": []
  },
  {
   "cell_type": "code",
   "execution_count": 108,
   "id": "2dd73155",
   "metadata": {},
   "outputs": [],
   "source": [
    "# Define the XGBoost parameters\n",
    "params = {\n",
    "    'objective': 'reg:squarederror',\n",
    "    'eval_metric': 'rmse'\n",
    "}\n",
    "\n",
    "# Set up a grid of hyperparameters to search over\n",
    "param_grid = {\n",
    "    'max_depth': [3, 6, 9],\n",
    "    'learning_rate': [0.1, 0.01, 0.001],\n",
    "    'subsample': [0.8, 1.0],\n",
    "    'colsample_bytree': [0.8, 1.0]\n",
    "}"
   ]
  },
  {
   "cell_type": "code",
   "execution_count": null,
   "id": "20a4f59f",
   "metadata": {},
   "outputs": [],
   "source": []
  },
  {
   "cell_type": "code",
   "execution_count": null,
   "id": "7f746c14",
   "metadata": {},
   "outputs": [],
   "source": []
  },
  {
   "cell_type": "code",
   "execution_count": 109,
   "id": "53b610f0",
   "metadata": {},
   "outputs": [
    {
     "name": "stdout",
     "output_type": "stream",
     "text": [
      "Fitting 5 folds for each of 36 candidates, totalling 180 fits\n"
     ]
    },
    {
     "data": {
      "text/plain": [
       "GridSearchCV(cv=5,\n",
       "             estimator=XGBRegressor(base_score=None, booster=None,\n",
       "                                    callbacks=None, colsample_bylevel=None,\n",
       "                                    colsample_bynode=None,\n",
       "                                    colsample_bytree=None,\n",
       "                                    early_stopping_rounds=None,\n",
       "                                    enable_categorical=False,\n",
       "                                    eval_metric='rmse', feature_types=None,\n",
       "                                    gamma=None, gpu_id=None, grow_policy=None,\n",
       "                                    importance_type=None,\n",
       "                                    interaction_constraints=None,\n",
       "                                    learning_rate=None...\n",
       "                                    max_cat_to_onehot=None, max_delta_step=None,\n",
       "                                    max_depth=None, max_leaves=None,\n",
       "                                    min_child_weight=None, missing=nan,\n",
       "                                    monotone_constraints=None, n_estimators=100,\n",
       "                                    n_jobs=None, num_parallel_tree=None,\n",
       "                                    predictor=None, random_state=None, ...),\n",
       "             param_grid={'colsample_bytree': [0.8, 1.0],\n",
       "                         'learning_rate': [0.1, 0.01, 0.001],\n",
       "                         'max_depth': [3, 6, 9], 'subsample': [0.8, 1.0]},\n",
       "             scoring='neg_mean_squared_error', verbose=1)"
      ]
     },
     "execution_count": 109,
     "metadata": {},
     "output_type": "execute_result"
    }
   ],
   "source": [
    "# Use grid search to find the best combination of hyperparameters\n",
    "grid = GridSearchCV(estimator=xgb.XGBRegressor(**params, n_estimators=100),\n",
    "                    param_grid=param_grid, scoring='neg_mean_squared_error', cv=5, verbose=1)\n",
    "grid.fit(X_train, y_train)\n"
   ]
  },
  {
   "cell_type": "code",
   "execution_count": null,
   "id": "072124b8",
   "metadata": {},
   "outputs": [],
   "source": []
  },
  {
   "cell_type": "code",
   "execution_count": null,
   "id": "5f70c02a",
   "metadata": {},
   "outputs": [],
   "source": []
  },
  {
   "cell_type": "code",
   "execution_count": 110,
   "id": "7c8c0093",
   "metadata": {},
   "outputs": [
    {
     "name": "stdout",
     "output_type": "stream",
     "text": [
      "Best hyperparameters:  {'colsample_bytree': 0.8, 'learning_rate': 0.1, 'max_depth': 3, 'subsample': 0.8}\n"
     ]
    }
   ],
   "source": [
    "print(\"Best hyperparameters: \", grid.best_params_)"
   ]
  },
  {
   "cell_type": "code",
   "execution_count": null,
   "id": "d34bd1bc",
   "metadata": {},
   "outputs": [],
   "source": []
  },
  {
   "cell_type": "code",
   "execution_count": null,
   "id": "124e7cd5",
   "metadata": {},
   "outputs": [],
   "source": []
  },
  {
   "cell_type": "code",
   "execution_count": 111,
   "id": "560ddc8b",
   "metadata": {},
   "outputs": [
    {
     "name": "stdout",
     "output_type": "stream",
     "text": [
      "[0]\tValidation-rmse:90.90506\n",
      "[10]\tValidation-rmse:32.73596\n",
      "[20]\tValidation-rmse:13.70571\n",
      "[30]\tValidation-rmse:8.84063\n",
      "[40]\tValidation-rmse:8.05297\n",
      "[50]\tValidation-rmse:7.95711\n",
      "[60]\tValidation-rmse:7.95853\n",
      "[64]\tValidation-rmse:7.95577\n"
     ]
    }
   ],
   "source": [
    "# Train the XGBoost model with the best hyperparameters\n",
    "bst = xgb.train({**params, **grid.best_params_}, dtrain, num_boost_round=1000, early_stopping_rounds=10, evals=[(dval, \"Validation\")], verbose_eval=10)\n"
   ]
  },
  {
   "cell_type": "code",
   "execution_count": null,
   "id": "4a44a5a6",
   "metadata": {},
   "outputs": [],
   "source": []
  },
  {
   "cell_type": "code",
   "execution_count": null,
   "id": "2d4d6b2b",
   "metadata": {},
   "outputs": [],
   "source": []
  },
  {
   "cell_type": "code",
   "execution_count": 112,
   "id": "4fb7cb09",
   "metadata": {},
   "outputs": [],
   "source": [
    "# Make predictions on the validation data\n",
    "y_pred = bst.predict(dval)"
   ]
  },
  {
   "cell_type": "code",
   "execution_count": null,
   "id": "498dbb49",
   "metadata": {},
   "outputs": [],
   "source": []
  },
  {
   "cell_type": "code",
   "execution_count": 113,
   "id": "fa0f01fc",
   "metadata": {},
   "outputs": [
    {
     "name": "stdout",
     "output_type": "stream",
     "text": [
      "Mean Squared Error: 63.33\n",
      "R-squared Score: 0.59\n"
     ]
    }
   ],
   "source": [
    "\n",
    "# Compute the mean squared error of the predictions\n",
    "mse = mean_squared_error(y_val, y_pred)\n",
    "print(\"Mean Squared Error: {:.2f}\".format(mse))\n",
    "\n",
    "# Compute the R-squared score of the predictions\n",
    "r2 = r2_score(y_val, y_pred)\n",
    "print(\"R-squared Score: {:.2f}\".format(r2))"
   ]
  },
  {
   "cell_type": "code",
   "execution_count": null,
   "id": "e9bae71d",
   "metadata": {},
   "outputs": [],
   "source": []
  },
  {
   "cell_type": "code",
   "execution_count": null,
   "id": "f556d5ba",
   "metadata": {},
   "outputs": [],
   "source": []
  },
  {
   "cell_type": "code",
   "execution_count": 114,
   "id": "ff415902",
   "metadata": {},
   "outputs": [],
   "source": [
    "# tunning some parameter"
   ]
  },
  {
   "cell_type": "code",
   "execution_count": 115,
   "id": "77b8029f",
   "metadata": {},
   "outputs": [
    {
     "name": "stdout",
     "output_type": "stream",
     "text": [
      "[0]\tValidation-rmse:90.90506\n",
      "[10]\tValidation-rmse:32.73596\n",
      "[20]\tValidation-rmse:13.70571\n",
      "[30]\tValidation-rmse:8.84063\n",
      "[40]\tValidation-rmse:8.05297\n",
      "[50]\tValidation-rmse:7.95711\n",
      "[60]\tValidation-rmse:7.95853\n",
      "[65]\tValidation-rmse:7.95785\n",
      "[0]\tValidation-rmse:90.89904\n",
      "[10]\tValidation-rmse:32.74000\n",
      "[20]\tValidation-rmse:13.71245\n",
      "[30]\tValidation-rmse:8.84206\n",
      "[40]\tValidation-rmse:8.03868\n",
      "[50]\tValidation-rmse:8.01410\n",
      "[57]\tValidation-rmse:8.00205\n",
      "[0]\tValidation-rmse:90.90338\n",
      "[10]\tValidation-rmse:32.71626\n",
      "[20]\tValidation-rmse:13.70049\n",
      "[30]\tValidation-rmse:8.83606\n",
      "[40]\tValidation-rmse:8.03750\n",
      "[50]\tValidation-rmse:7.94920\n",
      "[60]\tValidation-rmse:7.93014\n",
      "[69]\tValidation-rmse:7.92594\n",
      "[0]\tValidation-rmse:90.89649\n",
      "[10]\tValidation-rmse:32.73712\n",
      "[20]\tValidation-rmse:13.71701\n",
      "[30]\tValidation-rmse:8.84973\n",
      "[40]\tValidation-rmse:7.99047\n",
      "[50]\tValidation-rmse:7.88348\n",
      "[60]\tValidation-rmse:7.84850\n",
      "[65]\tValidation-rmse:7.86091\n",
      "[0]\tValidation-rmse:90.88951\n",
      "[10]\tValidation-rmse:32.73458\n",
      "[20]\tValidation-rmse:13.69019\n",
      "[30]\tValidation-rmse:8.83868\n",
      "[40]\tValidation-rmse:8.02065\n",
      "[50]\tValidation-rmse:7.90313\n",
      "[60]\tValidation-rmse:7.88278\n",
      "[70]\tValidation-rmse:7.90168\n",
      "----------------------------------------------\n",
      "Checking Accuracy With Mean Squared Error\n",
      "----------------------------------------------\n",
      "Mean Squared Error: 62.46\n",
      "R-squared Score: 0.60\n"
     ]
    }
   ],
   "source": [
    "import xgboost as xgb\n",
    "from sklearn.model_selection import train_test_split\n",
    "from sklearn.metrics import mean_squared_error, r2_score\n",
    "import pandas as pd\n",
    "\n",
    "# Define the XGBoost parameters\n",
    "params = {\n",
    "    'objective': 'reg:squarederror',\n",
    "    'eval_metric': 'rmse',\n",
    "    'max_depth': 3,\n",
    "    'learning_rate': 0.1,\n",
    "    'subsample': 0.8,\n",
    "    'colsample_bytree': 0.8\n",
    "}\n",
    "\n",
    "# Train multiple XGBoost models with different random seeds\n",
    "num_models = 5\n",
    "models = []\n",
    "for i in range(num_models):\n",
    "    # Set a different random seed for each model\n",
    "    params['seed'] = i\n",
    "    dtrain = xgb.DMatrix(X_train, label=y_train)\n",
    "    dval = xgb.DMatrix(X_val, label=y_val)\n",
    "    model = xgb.train(params, dtrain, num_boost_round=1000, early_stopping_rounds=10, evals=[(dval, \"Validation\")], verbose_eval=10)\n",
    "    models.append(model)\n",
    "\n",
    "# Make predictions on the validation data for each model\n",
    "y_preds = []\n",
    "for model in models:\n",
    "    y_pred = model.predict(dval)\n",
    "    y_preds.append(y_pred)\n",
    "\n",
    "# Compute the average of the predictions\n",
    "y_pred_avg = sum(y_preds) / len(y_preds)\n",
    "\n",
    "\n",
    "print('----------------------------------------------')\n",
    "print('Checking Accuracy With Mean Squared Error')\n",
    "print('----------------------------------------------')\n",
    "\n",
    "# Compute the mean squared error of the predictions\n",
    "mse = mean_squared_error(y_val, y_pred_avg)\n",
    "print(\"Mean Squared Error: {:.2f}\".format(mse))\n",
    "\n",
    "# Compute the R-squared score of the predictions\n",
    "r2 = r2_score(y_val, y_pred_avg)\n",
    "print(\"R-squared Score: {:.2f}\".format(r2))\n"
   ]
  },
  {
   "cell_type": "code",
   "execution_count": null,
   "id": "b28bee9b",
   "metadata": {},
   "outputs": [],
   "source": []
  },
  {
   "cell_type": "code",
   "execution_count": 116,
   "id": "493a640e",
   "metadata": {},
   "outputs": [
    {
     "name": "stdout",
     "output_type": "stream",
     "text": [
      "Mean Squared Error: 62.44\n",
      "R-squared Score: 0.60\n"
     ]
    }
   ],
   "source": [
    "# Compute the mean squared error of the predictions\n",
    "from sklearn.metrics import mean_squared_error\n",
    "mse = mean_squared_error(y_val, y_pred)\n",
    "print(\"Mean Squared Error: {:.2f}\".format(mse))\n",
    "\n",
    "# Compute the R-squared score of the predictions\n",
    "from sklearn.metrics import r2_score\n",
    "r2 = r2_score(y_val, y_pred)\n",
    "print(\"R-squared Score: {:.2f}\".format(r2))"
   ]
  },
  {
   "cell_type": "code",
   "execution_count": null,
   "id": "591dde66",
   "metadata": {},
   "outputs": [],
   "source": []
  },
  {
   "cell_type": "code",
   "execution_count": null,
   "id": "ee506d8e",
   "metadata": {},
   "outputs": [],
   "source": []
  },
  {
   "cell_type": "code",
   "execution_count": 117,
   "id": "5883ea8f",
   "metadata": {},
   "outputs": [
    {
     "name": "stdout",
     "output_type": "stream",
     "text": [
      "[ 86.45085   99.64463   79.16368  ...  90.753555 109.322945  89.94686 ]\n"
     ]
    }
   ],
   "source": [
    "# Convert the data to DMatrix format for XGBoost\n",
    "dtest = xgb.DMatrix(test_encoded)\n",
    "\n",
    "# Make predictions on the test data\n",
    "y_pred = bst.predict(dtest)\n",
    "\n",
    "# Print the predictions\n",
    "print(y_pred)\n"
   ]
  },
  {
   "cell_type": "code",
   "execution_count": null,
   "id": "a4921b20",
   "metadata": {},
   "outputs": [],
   "source": []
  },
  {
   "cell_type": "code",
   "execution_count": null,
   "id": "2b284b9a",
   "metadata": {},
   "outputs": [],
   "source": []
  },
  {
   "cell_type": "code",
   "execution_count": 118,
   "id": "c818c7b8",
   "metadata": {},
   "outputs": [],
   "source": [
    "# Convert the test data to DMatrix format for XGBoost\n",
    "dtest = xgb.DMatrix(test_encoded)\n",
    "\n",
    "# Make predictions on the test data\n",
    "y_pred = bst.predict(dtest)\n",
    "\n",
    "# Create a submission dataframe with the predicted values\n",
    "submission = pd.DataFrame({\n",
    "    'ID': test_df['ID'],\n",
    "    'y': y_pred\n",
    "})\n",
    "\n",
    "# Save the submission dataframe to a CSV file\n",
    "submission.to_csv('submission.csv', index=False)"
   ]
  },
  {
   "cell_type": "code",
   "execution_count": null,
   "id": "69c03bd6",
   "metadata": {},
   "outputs": [],
   "source": []
  },
  {
   "cell_type": "code",
   "execution_count": null,
   "id": "bff3a24f",
   "metadata": {},
   "outputs": [],
   "source": []
  },
  {
   "cell_type": "code",
   "execution_count": 119,
   "id": "6890ec21",
   "metadata": {},
   "outputs": [],
   "source": [
    "submission= pd.read_csv('submission.csv')"
   ]
  },
  {
   "cell_type": "code",
   "execution_count": 120,
   "id": "ce1ade7c",
   "metadata": {
    "scrolled": true
   },
   "outputs": [
    {
     "data": {
      "text/html": [
       "<div>\n",
       "<style scoped>\n",
       "    .dataframe tbody tr th:only-of-type {\n",
       "        vertical-align: middle;\n",
       "    }\n",
       "\n",
       "    .dataframe tbody tr th {\n",
       "        vertical-align: top;\n",
       "    }\n",
       "\n",
       "    .dataframe thead th {\n",
       "        text-align: right;\n",
       "    }\n",
       "</style>\n",
       "<table border=\"1\" class=\"dataframe\">\n",
       "  <thead>\n",
       "    <tr style=\"text-align: right;\">\n",
       "      <th></th>\n",
       "      <th>ID</th>\n",
       "      <th>y</th>\n",
       "    </tr>\n",
       "  </thead>\n",
       "  <tbody>\n",
       "    <tr>\n",
       "      <th>0</th>\n",
       "      <td>1</td>\n",
       "      <td>86.45085</td>\n",
       "    </tr>\n",
       "    <tr>\n",
       "      <th>1</th>\n",
       "      <td>2</td>\n",
       "      <td>99.64463</td>\n",
       "    </tr>\n",
       "    <tr>\n",
       "      <th>2</th>\n",
       "      <td>3</td>\n",
       "      <td>79.16368</td>\n",
       "    </tr>\n",
       "    <tr>\n",
       "      <th>3</th>\n",
       "      <td>4</td>\n",
       "      <td>78.32559</td>\n",
       "    </tr>\n",
       "    <tr>\n",
       "      <th>4</th>\n",
       "      <td>5</td>\n",
       "      <td>112.01158</td>\n",
       "    </tr>\n",
       "  </tbody>\n",
       "</table>\n",
       "</div>"
      ],
      "text/plain": [
       "   ID          y\n",
       "0   1   86.45085\n",
       "1   2   99.64463\n",
       "2   3   79.16368\n",
       "3   4   78.32559\n",
       "4   5  112.01158"
      ]
     },
     "execution_count": 120,
     "metadata": {},
     "output_type": "execute_result"
    }
   ],
   "source": [
    "submission.head()"
   ]
  },
  {
   "cell_type": "code",
   "execution_count": null,
   "id": "abdc0202",
   "metadata": {},
   "outputs": [],
   "source": []
  },
  {
   "cell_type": "markdown",
   "id": "3f88c514",
   "metadata": {},
   "source": [
    "### Plot the distribution of the predicted target variable in the submission data"
   ]
  },
  {
   "cell_type": "code",
   "execution_count": null,
   "id": "12d456bf",
   "metadata": {},
   "outputs": [],
   "source": []
  },
  {
   "cell_type": "code",
   "execution_count": 121,
   "id": "6336e872",
   "metadata": {},
   "outputs": [
    {
     "data": {
      "image/png": "[encoded data removed]",
      "text/plain": [
       "<Figure size 576x432 with 1 Axes>"
      ]
     },
     "metadata": {
      "needs_background": "light"
     },
     "output_type": "display_data"
    }
   ],
   "source": [
    "# Define the range of values for the histogram bins\n",
    "bin_width = 1\n",
    "bins = np.arange(submission['y'].min(), submission['y'].max() + bin_width, bin_width)\n",
    "\n",
    "# Create a histogram of the target variable with a bin width of 5\n",
    "font_style = {'family': 'Arial', 'size': 12, 'weight': 'bold', 'style': 'italic'}\n",
    "plt.figure(figsize=(8,6))\n",
    "plt.grid(axis='y',ls='solid',color ='k',lw=0.2,alpha=0.5)\n",
    "plt.hist(submission['y'], bins=bins, color='purple', edgecolor='black')\n",
    "\n",
    "# Add labels and a title\n",
    "plt.xlabel('Target Value',fontdict=font_style)\n",
    "plt.ylabel('Frequency',fontdict=font_style)\n",
    "plt.title('Distribution of Target Variable',fontdict=font_style)\n",
    "plt.xticks(rotation='vertical', ha='center',size=12)\n",
    "\n",
    "# Display the chart\n",
    "plt.show()"
   ]
  },
  {
   "cell_type": "code",
   "execution_count": null,
   "id": "a2193734",
   "metadata": {},
   "outputs": [],
   "source": []
  },
  {
   "cell_type": "code",
   "execution_count": null,
   "id": "6f769a8a",
   "metadata": {},
   "outputs": [],
   "source": []
  },
  {
   "cell_type": "markdown",
   "id": "afa6d595",
   "metadata": {},
   "source": [
    "### Plot the distribution of the target variable in the training data"
   ]
  },
  {
   "cell_type": "code",
   "execution_count": null,
   "id": "73057105",
   "metadata": {},
   "outputs": [],
   "source": []
  },
  {
   "cell_type": "code",
   "execution_count": 122,
   "id": "e851f6a9",
   "metadata": {
    "scrolled": false
   },
   "outputs": [
    {
     "data": {
      "image/png": "[encoded data removed]",
      "text/plain": [
       "<Figure size 576x432 with 1 Axes>"
      ]
     },
     "metadata": {
      "needs_background": "light"
     },
     "output_type": "display_data"
    }
   ],
   "source": [
    "# Define the range of values for the histogram bins\n",
    "bin_width = 5\n",
    "bins = np.arange(train_df['y'].min(), train_df['y'].max() + bin_width, bin_width)\n",
    "\n",
    "# Create a histogram of the target variable with a bin width of 5\n",
    "font_style = {'family': 'Arial', 'size': 12, 'weight': 'bold', 'style': 'italic'}\n",
    "plt.figure(figsize=(8,6))\n",
    "plt.grid(axis='y',ls='solid',color ='k',lw=0.2,alpha=0.5)\n",
    "plt.hist(train_df['y'], bins=bins, color='purple', edgecolor='black')\n",
    "\n",
    "# Add labels and a title\n",
    "plt.xlabel('Target Value',fontdict=font_style)\n",
    "plt.ylabel('Frequency',fontdict=font_style)\n",
    "plt.title('Distribution of Target Variable',fontdict=font_style)\n",
    "plt.xticks(rotation='vertical', ha='center',size=12)\n",
    "\n",
    "# Display the chart\n",
    "plt.show()\n"
   ]
  },
  {
   "cell_type": "code",
   "execution_count": null,
   "id": "0fc2d33f",
   "metadata": {},
   "outputs": [],
   "source": []
  },
  {
   "cell_type": "code",
   "execution_count": null,
   "id": "a59aa591",
   "metadata": {},
   "outputs": [],
   "source": []
  },
  {
   "cell_type": "markdown",
   "id": "c030b21a",
   "metadata": {},
   "source": [
    "## conclusions"
   ]
  },
  {
   "cell_type": "markdown",
   "id": "7a038b76",
   "metadata": {},
   "source": [
    "#### Based on the predicted values of the target variable for the test data, we can draw conclusions about the time a Mercedes-Benz spends on the test bench.\n",
    "\n",
    "#### Assuming the model is accurate, we can use the predicted values to estimate the time a Mercedes-Benz spends on the test bench for a new dataset. The lower the predicted value, the lower the time the car will spend on the test bench. This information can be useful for optimizing the manufacturing process and reducing the testing time, which in turn can reduce the cost of production.\n",
    "\n",
    "#### However, it is important to note that the accuracy of the model's predictions should be validated before making any decisions based on them. This can be done by comparing the model's predictions with actual data from the manufacturing process. If there is a significant difference between the predicted and actual values, further analysis and model refinement may be necessary."
   ]
  },
  {
   "cell_type": "code",
   "execution_count": null,
   "id": "97a485c2",
   "metadata": {},
   "outputs": [],
   "source": []
  },
  {
   "cell_type": "code",
   "execution_count": null,
   "id": "807cbe87",
   "metadata": {},
   "outputs": [],
   "source": []
  }
 ],
 "metadata": {
  "kernelspec": {
   "display_name": "Python 3",
   "language": "python",
   "name": "python3"
  },
  "language_info": {
   "codemirror_mode": {
    "name": "ipython",
    "version": 3
   },
   "file_extension": ".py",
   "mimetype": "text/x-python",
   "name": "python",
   "nbconvert_exporter": "python",
   "pygments_lexer": "ipython3",
   "version": "3.8.8"
  }
 },
 "nbformat": 4,
 "nbformat_minor": 5
}
